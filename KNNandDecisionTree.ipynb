{
  "nbformat": 4,
  "nbformat_minor": 0,
  "metadata": {
    "colab": {
      "name": "Copy of Welcome To Colaboratory",
      "provenance": [],
      "collapsed_sections": [],
      "include_colab_link": true
    },
    "kernelspec": {
      "display_name": "Python 3",
      "name": "python3"
    }
  },
  "cells": [
    {
      "cell_type": "markdown",
      "metadata": {
        "id": "view-in-github",
        "colab_type": "text"
      },
      "source": [
        "<a href=\"https://colab.research.google.com/github/jaskarannagi19/SampleGitRepo/blob/master/KNNandDecisionTree.ipynb\" target=\"_parent\"><img src=\"https://colab.research.google.com/assets/colab-badge.svg\" alt=\"Open In Colab\"/></a>"
      ]
    },
    {
      "cell_type": "code",
      "metadata": {
        "id": "RkGvnQ1XPt8A",
        "colab_type": "code",
        "colab": {}
      },
      "source": [
        "import pandas as pd #importing necessary libraries \n",
        "import os\n",
        "import glob #too read files in block directory\n",
        "from math import sqrt"
      ],
      "execution_count": 31,
      "outputs": []
    },
    {
      "cell_type": "code",
      "metadata": {
        "id": "syth7iQPPyms",
        "colab_type": "code",
        "colab": {}
      },
      "source": [
        "info_dataframe = pd.read_csv('info.csv') #load household info to extract data into info dataframe"
      ],
      "execution_count": 2,
      "outputs": []
    },
    {
      "cell_type": "code",
      "metadata": {
        "id": "oZKtfHUsQkdK",
        "colab_type": "code",
        "colab": {
          "base_uri": "https://localhost:8080/",
          "height": 206
        },
        "outputId": "ef679f24-f0e9-4016-9f44-b2c32c13c204"
      },
      "source": [
        "info_dataframe.head()   #look at first 5 rows of household file"
      ],
      "execution_count": 32,
      "outputs": [
        {
          "output_type": "execute_result",
          "data": {
            "text/html": [
              "<div>\n",
              "<style scoped>\n",
              "    .dataframe tbody tr th:only-of-type {\n",
              "        vertical-align: middle;\n",
              "    }\n",
              "\n",
              "    .dataframe tbody tr th {\n",
              "        vertical-align: top;\n",
              "    }\n",
              "\n",
              "    .dataframe thead th {\n",
              "        text-align: right;\n",
              "    }\n",
              "</style>\n",
              "<table border=\"1\" class=\"dataframe\">\n",
              "  <thead>\n",
              "    <tr style=\"text-align: right;\">\n",
              "      <th></th>\n",
              "      <th>LCLid</th>\n",
              "      <th>stdorToU</th>\n",
              "      <th>Acorn</th>\n",
              "      <th>Acorn_grouped</th>\n",
              "      <th>file</th>\n",
              "    </tr>\n",
              "  </thead>\n",
              "  <tbody>\n",
              "    <tr>\n",
              "      <th>0</th>\n",
              "      <td>MAC005492</td>\n",
              "      <td>ToU</td>\n",
              "      <td>ACORN-</td>\n",
              "      <td>ACORN-</td>\n",
              "      <td>block_0</td>\n",
              "    </tr>\n",
              "    <tr>\n",
              "      <th>1</th>\n",
              "      <td>MAC001074</td>\n",
              "      <td>ToU</td>\n",
              "      <td>ACORN-</td>\n",
              "      <td>ACORN-</td>\n",
              "      <td>block_0</td>\n",
              "    </tr>\n",
              "    <tr>\n",
              "      <th>2</th>\n",
              "      <td>MAC000002</td>\n",
              "      <td>Std</td>\n",
              "      <td>ACORN-A</td>\n",
              "      <td>Affluent</td>\n",
              "      <td>block_0</td>\n",
              "    </tr>\n",
              "    <tr>\n",
              "      <th>3</th>\n",
              "      <td>MAC003613</td>\n",
              "      <td>Std</td>\n",
              "      <td>ACORN-A</td>\n",
              "      <td>Affluent</td>\n",
              "      <td>block_0</td>\n",
              "    </tr>\n",
              "    <tr>\n",
              "      <th>4</th>\n",
              "      <td>MAC003597</td>\n",
              "      <td>Std</td>\n",
              "      <td>ACORN-A</td>\n",
              "      <td>Affluent</td>\n",
              "      <td>block_0</td>\n",
              "    </tr>\n",
              "  </tbody>\n",
              "</table>\n",
              "</div>"
            ],
            "text/plain": [
              "       LCLid stdorToU    Acorn Acorn_grouped     file\n",
              "0  MAC005492      ToU   ACORN-        ACORN-  block_0\n",
              "1  MAC001074      ToU   ACORN-        ACORN-  block_0\n",
              "2  MAC000002      Std  ACORN-A      Affluent  block_0\n",
              "3  MAC003613      Std  ACORN-A      Affluent  block_0\n",
              "4  MAC003597      Std  ACORN-A      Affluent  block_0"
            ]
          },
          "metadata": {
            "tags": []
          },
          "execution_count": 32
        }
      ]
    },
    {
      "cell_type": "code",
      "metadata": {
        "id": "AGbokJs46nD5",
        "colab_type": "code",
        "colab": {}
      },
      "source": [
        ""
      ],
      "execution_count": 3,
      "outputs": []
    },
    {
      "cell_type": "code",
      "metadata": {
        "id": "hnbuz_CHQqm_",
        "colab_type": "code",
        "colab": {
          "base_uri": "https://localhost:8080/",
          "height": 52
        },
        "outputId": "74f75cf6-9b43-42fd-de7a-2b7ff9c5f25c"
      },
      "source": [
        "  #extract block.zip file using zip\n",
        "! unzip block.zip -d block"
      ],
      "execution_count": 4,
      "outputs": [
        {
          "output_type": "stream",
          "text": [
            "Archive:  block.zip\n",
            "caution: filename not matched:  -y\n"
          ],
          "name": "stdout"
        }
      ]
    },
    {
      "cell_type": "code",
      "metadata": {
        "id": "Re94rxpyQ36K",
        "colab_type": "code",
        "colab": {
          "base_uri": "https://localhost:8080/",
          "height": 34
        },
        "outputId": "fdaa4994-b4a3-4dbf-9548-cb6073e05389"
      },
      "source": [
        "!ls"
      ],
      "execution_count": 5,
      "outputs": [
        {
          "output_type": "stream",
          "text": [
            "block  block.zip  info.csv  sample_data\n"
          ],
          "name": "stdout"
        }
      ]
    },
    {
      "cell_type": "code",
      "metadata": {
        "id": "GSmyDNQJRO1l",
        "colab_type": "code",
        "colab": {}
      },
      "source": [
        "#............................read all files in block folder and combine them into1 dataframe....................................\n",
        "file_path = \"/block/\"\n",
        "df =  pd.DataFrame()\n",
        "for filepath in glob.glob(os.path.join('block', '*.csv')):\n",
        "  block_df = pd.read_csv(filepath)\n",
        "  df= df.append(block_df)"
      ],
      "execution_count": 6,
      "outputs": []
    },
    {
      "cell_type": "code",
      "metadata": {
        "id": "XwaUuWn7Sp8y",
        "colab_type": "code",
        "colab": {}
      },
      "source": [
        "#df.describe()"
      ],
      "execution_count": 7,
      "outputs": []
    },
    {
      "cell_type": "code",
      "metadata": {
        "id": "CikPyZ-AUb_L",
        "colab_type": "code",
        "colab": {}
      },
      "source": [
        "test_df = pd.merge(info_dataframe, df, on=\"LCLid\")"
      ],
      "execution_count": 33,
      "outputs": []
    },
    {
      "cell_type": "code",
      "metadata": {
        "id": "hU8MwGggWNiE",
        "colab_type": "code",
        "colab": {}
      },
      "source": [
        "#test_df.loc[test_df['LCLid'] == 'MAC000002']"
      ],
      "execution_count": 9,
      "outputs": []
    },
    {
      "cell_type": "code",
      "metadata": {
        "id": "9Hm41ZfMWlgp",
        "colab_type": "code",
        "colab": {}
      },
      "source": [
        "#deleting stdorTou, file\n",
        "del test_df['stdorToU']\n",
        "del test_df['file']"
      ],
      "execution_count": 10,
      "outputs": []
    },
    {
      "cell_type": "code",
      "metadata": {
        "id": "7z00GnneYRNY",
        "colab_type": "code",
        "colab": {}
      },
      "source": [
        "#range of 6month or 2 months 1-05-2013 ---- 1-11-2013\n",
        "test_df= test_df[(test_df['day']>'2013-05-01') & (test_df['day']<'2013-11-1')]  "
      ],
      "execution_count": 11,
      "outputs": []
    },
    {
      "cell_type": "code",
      "metadata": {
        "id": "nzzr5ityZUv5",
        "colab_type": "code",
        "colab": {
          "base_uri": "https://localhost:8080/",
          "height": 937
        },
        "outputId": "1944029e-95a6-420d-af72-c7e0c085501a"
      },
      "source": [
        "#Check for NaN ....remove that remove...print which removed\n",
        "\n",
        "test_df.isnull().sum() #yay no NaNs found in 2 files I Used"
      ],
      "execution_count": 12,
      "outputs": [
        {
          "output_type": "execute_result",
          "data": {
            "text/plain": [
              "LCLid            0\n",
              "Acorn            0\n",
              "Acorn_grouped    0\n",
              "day              0\n",
              "hh_0             0\n",
              "hh_1             0\n",
              "hh_2             0\n",
              "hh_3             0\n",
              "hh_4             0\n",
              "hh_5             0\n",
              "hh_6             0\n",
              "hh_7             0\n",
              "hh_8             0\n",
              "hh_9             0\n",
              "hh_10            0\n",
              "hh_11            0\n",
              "hh_12            0\n",
              "hh_13            0\n",
              "hh_14            0\n",
              "hh_15            0\n",
              "hh_16            0\n",
              "hh_17            0\n",
              "hh_18            0\n",
              "hh_19            0\n",
              "hh_20            0\n",
              "hh_21            0\n",
              "hh_22            0\n",
              "hh_23            0\n",
              "hh_24            0\n",
              "hh_25            0\n",
              "hh_26            0\n",
              "hh_27            0\n",
              "hh_28            0\n",
              "hh_29            0\n",
              "hh_30            0\n",
              "hh_31            0\n",
              "hh_32            0\n",
              "hh_33            0\n",
              "hh_34            0\n",
              "hh_35            0\n",
              "hh_36            0\n",
              "hh_37            0\n",
              "hh_38            0\n",
              "hh_39            0\n",
              "hh_40            0\n",
              "hh_41            0\n",
              "hh_42            0\n",
              "hh_43            0\n",
              "hh_44            0\n",
              "hh_45            0\n",
              "hh_46            0\n",
              "hh_47            0\n",
              "dtype: int64"
            ]
          },
          "metadata": {
            "tags": []
          },
          "execution_count": 12
        }
      ]
    },
    {
      "cell_type": "code",
      "metadata": {
        "id": "6yOI21OScSOx",
        "colab_type": "code",
        "colab": {}
      },
      "source": [
        "#test_df.describe()"
      ],
      "execution_count": 13,
      "outputs": []
    },
    {
      "cell_type": "code",
      "metadata": {
        "id": "69NalrVJe93o",
        "colab_type": "code",
        "colab": {}
      },
      "source": [
        ""
      ],
      "execution_count": 13,
      "outputs": []
    },
    {
      "cell_type": "code",
      "metadata": {
        "id": "_Hv1cx4igVG_",
        "colab_type": "code",
        "colab": {
          "base_uri": "https://localhost:8080/",
          "height": 101
        },
        "outputId": "b02a0b2f-aca6-4736-c69b-059d1433bd98"
      },
      "source": [
        "test_df.iloc[[0]]"
      ],
      "execution_count": 14,
      "outputs": [
        {
          "output_type": "execute_result",
          "data": {
            "text/html": [
              "<div>\n",
              "<style scoped>\n",
              "    .dataframe tbody tr th:only-of-type {\n",
              "        vertical-align: middle;\n",
              "    }\n",
              "\n",
              "    .dataframe tbody tr th {\n",
              "        vertical-align: top;\n",
              "    }\n",
              "\n",
              "    .dataframe thead th {\n",
              "        text-align: right;\n",
              "    }\n",
              "</style>\n",
              "<table border=\"1\" class=\"dataframe\">\n",
              "  <thead>\n",
              "    <tr style=\"text-align: right;\">\n",
              "      <th></th>\n",
              "      <th>LCLid</th>\n",
              "      <th>Acorn</th>\n",
              "      <th>Acorn_grouped</th>\n",
              "      <th>day</th>\n",
              "      <th>hh_0</th>\n",
              "      <th>hh_1</th>\n",
              "      <th>hh_2</th>\n",
              "      <th>hh_3</th>\n",
              "      <th>hh_4</th>\n",
              "      <th>hh_5</th>\n",
              "      <th>hh_6</th>\n",
              "      <th>hh_7</th>\n",
              "      <th>hh_8</th>\n",
              "      <th>hh_9</th>\n",
              "      <th>hh_10</th>\n",
              "      <th>hh_11</th>\n",
              "      <th>hh_12</th>\n",
              "      <th>hh_13</th>\n",
              "      <th>hh_14</th>\n",
              "      <th>hh_15</th>\n",
              "      <th>hh_16</th>\n",
              "      <th>hh_17</th>\n",
              "      <th>hh_18</th>\n",
              "      <th>hh_19</th>\n",
              "      <th>hh_20</th>\n",
              "      <th>hh_21</th>\n",
              "      <th>hh_22</th>\n",
              "      <th>hh_23</th>\n",
              "      <th>hh_24</th>\n",
              "      <th>hh_25</th>\n",
              "      <th>hh_26</th>\n",
              "      <th>hh_27</th>\n",
              "      <th>hh_28</th>\n",
              "      <th>hh_29</th>\n",
              "      <th>hh_30</th>\n",
              "      <th>hh_31</th>\n",
              "      <th>hh_32</th>\n",
              "      <th>hh_33</th>\n",
              "      <th>hh_34</th>\n",
              "      <th>hh_35</th>\n",
              "      <th>hh_36</th>\n",
              "      <th>hh_37</th>\n",
              "      <th>hh_38</th>\n",
              "      <th>hh_39</th>\n",
              "      <th>hh_40</th>\n",
              "      <th>hh_41</th>\n",
              "      <th>hh_42</th>\n",
              "      <th>hh_43</th>\n",
              "      <th>hh_44</th>\n",
              "      <th>hh_45</th>\n",
              "      <th>hh_46</th>\n",
              "      <th>hh_47</th>\n",
              "    </tr>\n",
              "  </thead>\n",
              "  <tbody>\n",
              "    <tr>\n",
              "      <th>248</th>\n",
              "      <td>MAC005492</td>\n",
              "      <td>ACORN-</td>\n",
              "      <td>ACORN-</td>\n",
              "      <td>2013-05-02</td>\n",
              "      <td>0.195</td>\n",
              "      <td>0.202</td>\n",
              "      <td>0.17</td>\n",
              "      <td>0.159</td>\n",
              "      <td>0.123</td>\n",
              "      <td>0.092</td>\n",
              "      <td>0.089</td>\n",
              "      <td>0.122</td>\n",
              "      <td>0.132</td>\n",
              "      <td>0.095</td>\n",
              "      <td>0.091</td>\n",
              "      <td>0.089</td>\n",
              "      <td>0.084</td>\n",
              "      <td>0.086</td>\n",
              "      <td>0.127</td>\n",
              "      <td>0.112</td>\n",
              "      <td>0.623</td>\n",
              "      <td>0.187</td>\n",
              "      <td>0.103</td>\n",
              "      <td>0.105</td>\n",
              "      <td>0.117</td>\n",
              "      <td>0.128</td>\n",
              "      <td>0.093</td>\n",
              "      <td>0.084</td>\n",
              "      <td>0.087</td>\n",
              "      <td>0.086</td>\n",
              "      <td>0.088</td>\n",
              "      <td>0.112</td>\n",
              "      <td>0.13</td>\n",
              "      <td>0.087</td>\n",
              "      <td>0.087</td>\n",
              "      <td>0.086</td>\n",
              "      <td>0.085</td>\n",
              "      <td>0.102</td>\n",
              "      <td>0.142</td>\n",
              "      <td>0.129</td>\n",
              "      <td>0.164</td>\n",
              "      <td>0.324</td>\n",
              "      <td>0.172</td>\n",
              "      <td>0.214</td>\n",
              "      <td>0.221</td>\n",
              "      <td>0.228</td>\n",
              "      <td>0.204</td>\n",
              "      <td>0.276</td>\n",
              "      <td>0.241</td>\n",
              "      <td>0.167</td>\n",
              "      <td>0.17</td>\n",
              "      <td>0.263</td>\n",
              "    </tr>\n",
              "  </tbody>\n",
              "</table>\n",
              "</div>"
            ],
            "text/plain": [
              "         LCLid   Acorn Acorn_grouped         day  ...  hh_44  hh_45  hh_46  hh_47\n",
              "248  MAC005492  ACORN-        ACORN-  2013-05-02  ...  0.241  0.167   0.17  0.263\n",
              "\n",
              "[1 rows x 52 columns]"
            ]
          },
          "metadata": {
            "tags": []
          },
          "execution_count": 14
        }
      ]
    },
    {
      "cell_type": "code",
      "metadata": {
        "id": "3hmvYirjZdT0",
        "colab_type": "code",
        "colab": {}
      },
      "source": [
        "#KNN MODEL ON IT\n",
        "\n",
        "#    Step 1: Calculate Euclidean Distance.\n",
        "#    Step 2: Get Nearest Neighbors.\n",
        "#    Step 3: Make Predictions.\n"
      ],
      "execution_count": 15,
      "outputs": []
    },
    {
      "cell_type": "code",
      "metadata": {
        "id": "gc6wASa2ccFQ",
        "colab_type": "code",
        "colab": {}
      },
      "source": [
        "# calculate the Euclidean distance between two vectors"
      ],
      "execution_count": 16,
      "outputs": []
    },
    {
      "cell_type": "code",
      "metadata": {
        "id": "1034lIqdwJuy",
        "colab_type": "code",
        "colab": {}
      },
      "source": [
        "test_df['Acorn_grouped']=pd.factorize(test_df['Acorn_grouped'])[0] + 0"
      ],
      "execution_count": 17,
      "outputs": []
    },
    {
      "cell_type": "code",
      "metadata": {
        "id": "iNLDWIr6uZKX",
        "colab_type": "code",
        "colab": {}
      },
      "source": [
        "#separate training and targets\n",
        "X=test_df.iloc[:, 2:]\n",
        "y = test_df.iloc[:, 1]\n",
        "\n",
        "\n",
        "y=pd.factorize(y)[0] + 0"
      ],
      "execution_count": 18,
      "outputs": []
    },
    {
      "cell_type": "code",
      "metadata": {
        "id": "de7R_V2SvPx7",
        "colab_type": "code",
        "colab": {}
      },
      "source": [
        "\n",
        "del X['day']"
      ],
      "execution_count": 19,
      "outputs": []
    },
    {
      "cell_type": "code",
      "metadata": {
        "id": "_jWxc83TyA1U",
        "colab_type": "code",
        "colab": {
          "base_uri": "https://localhost:8080/",
          "height": 444
        },
        "outputId": "6e8c3e7e-7279-4ec5-b73a-2e7e817ba1c3"
      },
      "source": [
        "X"
      ],
      "execution_count": 20,
      "outputs": [
        {
          "output_type": "execute_result",
          "data": {
            "text/html": [
              "<div>\n",
              "<style scoped>\n",
              "    .dataframe tbody tr th:only-of-type {\n",
              "        vertical-align: middle;\n",
              "    }\n",
              "\n",
              "    .dataframe tbody tr th {\n",
              "        vertical-align: top;\n",
              "    }\n",
              "\n",
              "    .dataframe thead th {\n",
              "        text-align: right;\n",
              "    }\n",
              "</style>\n",
              "<table border=\"1\" class=\"dataframe\">\n",
              "  <thead>\n",
              "    <tr style=\"text-align: right;\">\n",
              "      <th></th>\n",
              "      <th>Acorn_grouped</th>\n",
              "      <th>hh_0</th>\n",
              "      <th>hh_1</th>\n",
              "      <th>hh_2</th>\n",
              "      <th>hh_3</th>\n",
              "      <th>hh_4</th>\n",
              "      <th>hh_5</th>\n",
              "      <th>hh_6</th>\n",
              "      <th>hh_7</th>\n",
              "      <th>hh_8</th>\n",
              "      <th>hh_9</th>\n",
              "      <th>hh_10</th>\n",
              "      <th>hh_11</th>\n",
              "      <th>hh_12</th>\n",
              "      <th>hh_13</th>\n",
              "      <th>hh_14</th>\n",
              "      <th>hh_15</th>\n",
              "      <th>hh_16</th>\n",
              "      <th>hh_17</th>\n",
              "      <th>hh_18</th>\n",
              "      <th>hh_19</th>\n",
              "      <th>hh_20</th>\n",
              "      <th>hh_21</th>\n",
              "      <th>hh_22</th>\n",
              "      <th>hh_23</th>\n",
              "      <th>hh_24</th>\n",
              "      <th>hh_25</th>\n",
              "      <th>hh_26</th>\n",
              "      <th>hh_27</th>\n",
              "      <th>hh_28</th>\n",
              "      <th>hh_29</th>\n",
              "      <th>hh_30</th>\n",
              "      <th>hh_31</th>\n",
              "      <th>hh_32</th>\n",
              "      <th>hh_33</th>\n",
              "      <th>hh_34</th>\n",
              "      <th>hh_35</th>\n",
              "      <th>hh_36</th>\n",
              "      <th>hh_37</th>\n",
              "      <th>hh_38</th>\n",
              "      <th>hh_39</th>\n",
              "      <th>hh_40</th>\n",
              "      <th>hh_41</th>\n",
              "      <th>hh_42</th>\n",
              "      <th>hh_43</th>\n",
              "      <th>hh_44</th>\n",
              "      <th>hh_45</th>\n",
              "      <th>hh_46</th>\n",
              "      <th>hh_47</th>\n",
              "    </tr>\n",
              "  </thead>\n",
              "  <tbody>\n",
              "    <tr>\n",
              "      <th>248</th>\n",
              "      <td>0</td>\n",
              "      <td>0.195</td>\n",
              "      <td>0.202</td>\n",
              "      <td>0.170</td>\n",
              "      <td>0.159</td>\n",
              "      <td>0.123</td>\n",
              "      <td>0.092</td>\n",
              "      <td>0.089</td>\n",
              "      <td>0.122</td>\n",
              "      <td>0.132</td>\n",
              "      <td>0.095</td>\n",
              "      <td>0.091</td>\n",
              "      <td>0.089</td>\n",
              "      <td>0.084</td>\n",
              "      <td>0.086</td>\n",
              "      <td>0.127</td>\n",
              "      <td>0.112</td>\n",
              "      <td>0.623</td>\n",
              "      <td>0.187</td>\n",
              "      <td>0.103</td>\n",
              "      <td>0.105</td>\n",
              "      <td>0.117</td>\n",
              "      <td>0.128</td>\n",
              "      <td>0.093</td>\n",
              "      <td>0.084</td>\n",
              "      <td>0.087</td>\n",
              "      <td>0.086</td>\n",
              "      <td>0.088</td>\n",
              "      <td>0.112</td>\n",
              "      <td>0.130</td>\n",
              "      <td>0.087</td>\n",
              "      <td>0.087</td>\n",
              "      <td>0.086</td>\n",
              "      <td>0.085</td>\n",
              "      <td>0.102</td>\n",
              "      <td>0.142</td>\n",
              "      <td>0.129</td>\n",
              "      <td>0.164</td>\n",
              "      <td>0.324</td>\n",
              "      <td>0.172</td>\n",
              "      <td>0.214</td>\n",
              "      <td>0.221</td>\n",
              "      <td>0.228</td>\n",
              "      <td>0.204</td>\n",
              "      <td>0.276</td>\n",
              "      <td>0.241</td>\n",
              "      <td>0.167</td>\n",
              "      <td>0.170</td>\n",
              "      <td>0.263</td>\n",
              "    </tr>\n",
              "    <tr>\n",
              "      <th>249</th>\n",
              "      <td>0</td>\n",
              "      <td>0.188</td>\n",
              "      <td>0.125</td>\n",
              "      <td>0.092</td>\n",
              "      <td>0.091</td>\n",
              "      <td>0.091</td>\n",
              "      <td>0.096</td>\n",
              "      <td>0.135</td>\n",
              "      <td>0.112</td>\n",
              "      <td>0.091</td>\n",
              "      <td>0.093</td>\n",
              "      <td>0.091</td>\n",
              "      <td>0.091</td>\n",
              "      <td>0.116</td>\n",
              "      <td>0.187</td>\n",
              "      <td>0.185</td>\n",
              "      <td>0.626</td>\n",
              "      <td>0.083</td>\n",
              "      <td>0.087</td>\n",
              "      <td>0.128</td>\n",
              "      <td>0.100</td>\n",
              "      <td>0.084</td>\n",
              "      <td>0.082</td>\n",
              "      <td>0.084</td>\n",
              "      <td>0.082</td>\n",
              "      <td>0.123</td>\n",
              "      <td>0.096</td>\n",
              "      <td>0.084</td>\n",
              "      <td>0.083</td>\n",
              "      <td>0.082</td>\n",
              "      <td>0.115</td>\n",
              "      <td>0.117</td>\n",
              "      <td>0.084</td>\n",
              "      <td>0.081</td>\n",
              "      <td>0.084</td>\n",
              "      <td>0.082</td>\n",
              "      <td>0.112</td>\n",
              "      <td>0.121</td>\n",
              "      <td>0.085</td>\n",
              "      <td>0.087</td>\n",
              "      <td>0.106</td>\n",
              "      <td>0.094</td>\n",
              "      <td>0.106</td>\n",
              "      <td>0.131</td>\n",
              "      <td>0.104</td>\n",
              "      <td>0.090</td>\n",
              "      <td>0.089</td>\n",
              "      <td>0.088</td>\n",
              "      <td>0.090</td>\n",
              "    </tr>\n",
              "    <tr>\n",
              "      <th>250</th>\n",
              "      <td>0</td>\n",
              "      <td>0.133</td>\n",
              "      <td>0.113</td>\n",
              "      <td>0.087</td>\n",
              "      <td>0.090</td>\n",
              "      <td>0.087</td>\n",
              "      <td>0.089</td>\n",
              "      <td>0.117</td>\n",
              "      <td>0.129</td>\n",
              "      <td>0.087</td>\n",
              "      <td>0.093</td>\n",
              "      <td>0.088</td>\n",
              "      <td>0.088</td>\n",
              "      <td>0.097</td>\n",
              "      <td>0.129</td>\n",
              "      <td>0.090</td>\n",
              "      <td>0.084</td>\n",
              "      <td>0.082</td>\n",
              "      <td>0.084</td>\n",
              "      <td>0.085</td>\n",
              "      <td>0.129</td>\n",
              "      <td>0.101</td>\n",
              "      <td>0.085</td>\n",
              "      <td>0.081</td>\n",
              "      <td>0.083</td>\n",
              "      <td>0.082</td>\n",
              "      <td>0.109</td>\n",
              "      <td>0.123</td>\n",
              "      <td>0.085</td>\n",
              "      <td>0.082</td>\n",
              "      <td>0.085</td>\n",
              "      <td>0.082</td>\n",
              "      <td>0.094</td>\n",
              "      <td>0.125</td>\n",
              "      <td>0.098</td>\n",
              "      <td>0.082</td>\n",
              "      <td>0.083</td>\n",
              "      <td>0.083</td>\n",
              "      <td>0.084</td>\n",
              "      <td>0.124</td>\n",
              "      <td>0.127</td>\n",
              "      <td>0.095</td>\n",
              "      <td>0.089</td>\n",
              "      <td>0.088</td>\n",
              "      <td>0.091</td>\n",
              "      <td>0.107</td>\n",
              "      <td>0.131</td>\n",
              "      <td>0.101</td>\n",
              "      <td>0.089</td>\n",
              "    </tr>\n",
              "    <tr>\n",
              "      <th>251</th>\n",
              "      <td>0</td>\n",
              "      <td>0.090</td>\n",
              "      <td>0.086</td>\n",
              "      <td>0.089</td>\n",
              "      <td>0.129</td>\n",
              "      <td>0.115</td>\n",
              "      <td>0.088</td>\n",
              "      <td>0.090</td>\n",
              "      <td>0.089</td>\n",
              "      <td>0.090</td>\n",
              "      <td>0.117</td>\n",
              "      <td>0.127</td>\n",
              "      <td>0.087</td>\n",
              "      <td>0.084</td>\n",
              "      <td>0.082</td>\n",
              "      <td>0.083</td>\n",
              "      <td>0.099</td>\n",
              "      <td>0.126</td>\n",
              "      <td>0.088</td>\n",
              "      <td>0.085</td>\n",
              "      <td>0.083</td>\n",
              "      <td>0.085</td>\n",
              "      <td>0.104</td>\n",
              "      <td>0.129</td>\n",
              "      <td>0.085</td>\n",
              "      <td>0.084</td>\n",
              "      <td>0.082</td>\n",
              "      <td>0.083</td>\n",
              "      <td>0.122</td>\n",
              "      <td>0.110</td>\n",
              "      <td>0.083</td>\n",
              "      <td>0.085</td>\n",
              "      <td>0.082</td>\n",
              "      <td>0.084</td>\n",
              "      <td>0.110</td>\n",
              "      <td>0.120</td>\n",
              "      <td>0.082</td>\n",
              "      <td>0.081</td>\n",
              "      <td>0.085</td>\n",
              "      <td>0.089</td>\n",
              "      <td>0.116</td>\n",
              "      <td>0.124</td>\n",
              "      <td>0.091</td>\n",
              "      <td>0.088</td>\n",
              "      <td>0.093</td>\n",
              "      <td>0.109</td>\n",
              "      <td>0.123</td>\n",
              "      <td>0.087</td>\n",
              "      <td>0.091</td>\n",
              "    </tr>\n",
              "    <tr>\n",
              "      <th>252</th>\n",
              "      <td>0</td>\n",
              "      <td>0.089</td>\n",
              "      <td>0.110</td>\n",
              "      <td>0.132</td>\n",
              "      <td>0.093</td>\n",
              "      <td>0.088</td>\n",
              "      <td>0.090</td>\n",
              "      <td>0.087</td>\n",
              "      <td>0.104</td>\n",
              "      <td>0.131</td>\n",
              "      <td>0.100</td>\n",
              "      <td>0.091</td>\n",
              "      <td>0.088</td>\n",
              "      <td>0.082</td>\n",
              "      <td>0.091</td>\n",
              "      <td>0.126</td>\n",
              "      <td>0.106</td>\n",
              "      <td>0.100</td>\n",
              "      <td>0.093</td>\n",
              "      <td>0.082</td>\n",
              "      <td>0.088</td>\n",
              "      <td>0.126</td>\n",
              "      <td>0.147</td>\n",
              "      <td>0.098</td>\n",
              "      <td>0.220</td>\n",
              "      <td>0.099</td>\n",
              "      <td>0.108</td>\n",
              "      <td>0.144</td>\n",
              "      <td>0.107</td>\n",
              "      <td>0.099</td>\n",
              "      <td>0.087</td>\n",
              "      <td>0.081</td>\n",
              "      <td>0.122</td>\n",
              "      <td>0.123</td>\n",
              "      <td>0.514</td>\n",
              "      <td>0.139</td>\n",
              "      <td>0.161</td>\n",
              "      <td>0.130</td>\n",
              "      <td>0.167</td>\n",
              "      <td>0.213</td>\n",
              "      <td>0.201</td>\n",
              "      <td>0.173</td>\n",
              "      <td>0.162</td>\n",
              "      <td>0.119</td>\n",
              "      <td>0.092</td>\n",
              "      <td>0.129</td>\n",
              "      <td>0.130</td>\n",
              "      <td>0.092</td>\n",
              "      <td>0.087</td>\n",
              "    </tr>\n",
              "    <tr>\n",
              "      <th>...</th>\n",
              "      <td>...</td>\n",
              "      <td>...</td>\n",
              "      <td>...</td>\n",
              "      <td>...</td>\n",
              "      <td>...</td>\n",
              "      <td>...</td>\n",
              "      <td>...</td>\n",
              "      <td>...</td>\n",
              "      <td>...</td>\n",
              "      <td>...</td>\n",
              "      <td>...</td>\n",
              "      <td>...</td>\n",
              "      <td>...</td>\n",
              "      <td>...</td>\n",
              "      <td>...</td>\n",
              "      <td>...</td>\n",
              "      <td>...</td>\n",
              "      <td>...</td>\n",
              "      <td>...</td>\n",
              "      <td>...</td>\n",
              "      <td>...</td>\n",
              "      <td>...</td>\n",
              "      <td>...</td>\n",
              "      <td>...</td>\n",
              "      <td>...</td>\n",
              "      <td>...</td>\n",
              "      <td>...</td>\n",
              "      <td>...</td>\n",
              "      <td>...</td>\n",
              "      <td>...</td>\n",
              "      <td>...</td>\n",
              "      <td>...</td>\n",
              "      <td>...</td>\n",
              "      <td>...</td>\n",
              "      <td>...</td>\n",
              "      <td>...</td>\n",
              "      <td>...</td>\n",
              "      <td>...</td>\n",
              "      <td>...</td>\n",
              "      <td>...</td>\n",
              "      <td>...</td>\n",
              "      <td>...</td>\n",
              "      <td>...</td>\n",
              "      <td>...</td>\n",
              "      <td>...</td>\n",
              "      <td>...</td>\n",
              "      <td>...</td>\n",
              "      <td>...</td>\n",
              "      <td>...</td>\n",
              "    </tr>\n",
              "    <tr>\n",
              "      <th>56424</th>\n",
              "      <td>1</td>\n",
              "      <td>0.093</td>\n",
              "      <td>0.085</td>\n",
              "      <td>0.108</td>\n",
              "      <td>0.140</td>\n",
              "      <td>0.092</td>\n",
              "      <td>0.102</td>\n",
              "      <td>0.104</td>\n",
              "      <td>0.128</td>\n",
              "      <td>0.092</td>\n",
              "      <td>0.092</td>\n",
              "      <td>0.104</td>\n",
              "      <td>0.137</td>\n",
              "      <td>0.097</td>\n",
              "      <td>0.085</td>\n",
              "      <td>0.325</td>\n",
              "      <td>0.219</td>\n",
              "      <td>0.172</td>\n",
              "      <td>0.203</td>\n",
              "      <td>0.612</td>\n",
              "      <td>0.113</td>\n",
              "      <td>0.093</td>\n",
              "      <td>0.082</td>\n",
              "      <td>0.106</td>\n",
              "      <td>0.317</td>\n",
              "      <td>0.132</td>\n",
              "      <td>0.178</td>\n",
              "      <td>0.168</td>\n",
              "      <td>0.313</td>\n",
              "      <td>0.345</td>\n",
              "      <td>0.324</td>\n",
              "      <td>0.726</td>\n",
              "      <td>0.205</td>\n",
              "      <td>0.167</td>\n",
              "      <td>0.396</td>\n",
              "      <td>1.146</td>\n",
              "      <td>2.150</td>\n",
              "      <td>2.021</td>\n",
              "      <td>1.680</td>\n",
              "      <td>0.931</td>\n",
              "      <td>0.676</td>\n",
              "      <td>0.447</td>\n",
              "      <td>0.917</td>\n",
              "      <td>1.043</td>\n",
              "      <td>0.976</td>\n",
              "      <td>0.587</td>\n",
              "      <td>0.396</td>\n",
              "      <td>0.384</td>\n",
              "      <td>0.420</td>\n",
              "    </tr>\n",
              "    <tr>\n",
              "      <th>56425</th>\n",
              "      <td>1</td>\n",
              "      <td>0.304</td>\n",
              "      <td>0.128</td>\n",
              "      <td>0.130</td>\n",
              "      <td>0.154</td>\n",
              "      <td>0.164</td>\n",
              "      <td>0.122</td>\n",
              "      <td>0.123</td>\n",
              "      <td>0.142</td>\n",
              "      <td>0.168</td>\n",
              "      <td>0.128</td>\n",
              "      <td>0.128</td>\n",
              "      <td>0.145</td>\n",
              "      <td>0.166</td>\n",
              "      <td>0.128</td>\n",
              "      <td>0.189</td>\n",
              "      <td>0.401</td>\n",
              "      <td>0.231</td>\n",
              "      <td>0.150</td>\n",
              "      <td>0.792</td>\n",
              "      <td>0.602</td>\n",
              "      <td>0.183</td>\n",
              "      <td>0.173</td>\n",
              "      <td>0.147</td>\n",
              "      <td>0.343</td>\n",
              "      <td>0.190</td>\n",
              "      <td>0.201</td>\n",
              "      <td>0.148</td>\n",
              "      <td>0.148</td>\n",
              "      <td>0.115</td>\n",
              "      <td>0.124</td>\n",
              "      <td>0.341</td>\n",
              "      <td>0.345</td>\n",
              "      <td>0.164</td>\n",
              "      <td>0.268</td>\n",
              "      <td>0.800</td>\n",
              "      <td>1.130</td>\n",
              "      <td>1.474</td>\n",
              "      <td>1.270</td>\n",
              "      <td>0.561</td>\n",
              "      <td>0.514</td>\n",
              "      <td>0.423</td>\n",
              "      <td>0.509</td>\n",
              "      <td>0.630</td>\n",
              "      <td>0.492</td>\n",
              "      <td>0.442</td>\n",
              "      <td>0.378</td>\n",
              "      <td>0.356</td>\n",
              "      <td>0.202</td>\n",
              "    </tr>\n",
              "    <tr>\n",
              "      <th>56426</th>\n",
              "      <td>1</td>\n",
              "      <td>0.129</td>\n",
              "      <td>0.133</td>\n",
              "      <td>0.132</td>\n",
              "      <td>0.176</td>\n",
              "      <td>0.120</td>\n",
              "      <td>0.121</td>\n",
              "      <td>0.164</td>\n",
              "      <td>0.141</td>\n",
              "      <td>0.132</td>\n",
              "      <td>0.137</td>\n",
              "      <td>0.150</td>\n",
              "      <td>0.124</td>\n",
              "      <td>0.189</td>\n",
              "      <td>0.240</td>\n",
              "      <td>0.561</td>\n",
              "      <td>0.248</td>\n",
              "      <td>0.252</td>\n",
              "      <td>0.203</td>\n",
              "      <td>0.082</td>\n",
              "      <td>0.112</td>\n",
              "      <td>0.090</td>\n",
              "      <td>0.076</td>\n",
              "      <td>0.087</td>\n",
              "      <td>0.096</td>\n",
              "      <td>0.089</td>\n",
              "      <td>0.078</td>\n",
              "      <td>0.121</td>\n",
              "      <td>0.072</td>\n",
              "      <td>0.073</td>\n",
              "      <td>0.099</td>\n",
              "      <td>0.101</td>\n",
              "      <td>0.081</td>\n",
              "      <td>0.081</td>\n",
              "      <td>0.112</td>\n",
              "      <td>0.097</td>\n",
              "      <td>0.468</td>\n",
              "      <td>0.485</td>\n",
              "      <td>1.287</td>\n",
              "      <td>0.440</td>\n",
              "      <td>0.409</td>\n",
              "      <td>0.494</td>\n",
              "      <td>0.485</td>\n",
              "      <td>0.812</td>\n",
              "      <td>0.443</td>\n",
              "      <td>0.441</td>\n",
              "      <td>0.455</td>\n",
              "      <td>0.619</td>\n",
              "      <td>0.310</td>\n",
              "    </tr>\n",
              "    <tr>\n",
              "      <th>56427</th>\n",
              "      <td>1</td>\n",
              "      <td>0.399</td>\n",
              "      <td>0.362</td>\n",
              "      <td>0.266</td>\n",
              "      <td>0.106</td>\n",
              "      <td>0.122</td>\n",
              "      <td>0.090</td>\n",
              "      <td>0.091</td>\n",
              "      <td>0.111</td>\n",
              "      <td>0.101</td>\n",
              "      <td>0.086</td>\n",
              "      <td>0.092</td>\n",
              "      <td>0.121</td>\n",
              "      <td>0.181</td>\n",
              "      <td>0.165</td>\n",
              "      <td>0.425</td>\n",
              "      <td>0.433</td>\n",
              "      <td>1.127</td>\n",
              "      <td>0.533</td>\n",
              "      <td>0.590</td>\n",
              "      <td>0.214</td>\n",
              "      <td>0.127</td>\n",
              "      <td>0.249</td>\n",
              "      <td>0.637</td>\n",
              "      <td>0.576</td>\n",
              "      <td>0.108</td>\n",
              "      <td>0.069</td>\n",
              "      <td>0.105</td>\n",
              "      <td>0.264</td>\n",
              "      <td>0.075</td>\n",
              "      <td>0.066</td>\n",
              "      <td>0.110</td>\n",
              "      <td>0.093</td>\n",
              "      <td>0.076</td>\n",
              "      <td>0.069</td>\n",
              "      <td>0.093</td>\n",
              "      <td>0.455</td>\n",
              "      <td>0.439</td>\n",
              "      <td>0.451</td>\n",
              "      <td>1.546</td>\n",
              "      <td>1.283</td>\n",
              "      <td>0.541</td>\n",
              "      <td>0.569</td>\n",
              "      <td>0.524</td>\n",
              "      <td>0.387</td>\n",
              "      <td>0.337</td>\n",
              "      <td>0.285</td>\n",
              "      <td>0.132</td>\n",
              "      <td>0.130</td>\n",
              "    </tr>\n",
              "    <tr>\n",
              "      <th>56428</th>\n",
              "      <td>1</td>\n",
              "      <td>0.102</td>\n",
              "      <td>0.092</td>\n",
              "      <td>0.092</td>\n",
              "      <td>0.134</td>\n",
              "      <td>0.103</td>\n",
              "      <td>0.081</td>\n",
              "      <td>0.085</td>\n",
              "      <td>0.126</td>\n",
              "      <td>0.123</td>\n",
              "      <td>0.091</td>\n",
              "      <td>0.090</td>\n",
              "      <td>0.099</td>\n",
              "      <td>0.116</td>\n",
              "      <td>0.092</td>\n",
              "      <td>0.160</td>\n",
              "      <td>0.248</td>\n",
              "      <td>0.256</td>\n",
              "      <td>0.132</td>\n",
              "      <td>0.317</td>\n",
              "      <td>0.533</td>\n",
              "      <td>0.552</td>\n",
              "      <td>0.257</td>\n",
              "      <td>0.122</td>\n",
              "      <td>0.138</td>\n",
              "      <td>0.204</td>\n",
              "      <td>0.377</td>\n",
              "      <td>0.188</td>\n",
              "      <td>1.227</td>\n",
              "      <td>1.969</td>\n",
              "      <td>1.081</td>\n",
              "      <td>0.209</td>\n",
              "      <td>0.259</td>\n",
              "      <td>0.436</td>\n",
              "      <td>0.356</td>\n",
              "      <td>0.851</td>\n",
              "      <td>0.546</td>\n",
              "      <td>0.436</td>\n",
              "      <td>1.171</td>\n",
              "      <td>0.635</td>\n",
              "      <td>1.464</td>\n",
              "      <td>2.185</td>\n",
              "      <td>1.852</td>\n",
              "      <td>1.147</td>\n",
              "      <td>0.353</td>\n",
              "      <td>0.389</td>\n",
              "      <td>0.323</td>\n",
              "      <td>0.349</td>\n",
              "      <td>0.321</td>\n",
              "    </tr>\n",
              "  </tbody>\n",
              "</table>\n",
              "<p>18223 rows × 49 columns</p>\n",
              "</div>"
            ],
            "text/plain": [
              "       Acorn_grouped   hh_0   hh_1   hh_2  ...  hh_44  hh_45  hh_46  hh_47\n",
              "248                0  0.195  0.202  0.170  ...  0.241  0.167  0.170  0.263\n",
              "249                0  0.188  0.125  0.092  ...  0.090  0.089  0.088  0.090\n",
              "250                0  0.133  0.113  0.087  ...  0.107  0.131  0.101  0.089\n",
              "251                0  0.090  0.086  0.089  ...  0.109  0.123  0.087  0.091\n",
              "252                0  0.089  0.110  0.132  ...  0.129  0.130  0.092  0.087\n",
              "...              ...    ...    ...    ...  ...    ...    ...    ...    ...\n",
              "56424              1  0.093  0.085  0.108  ...  0.587  0.396  0.384  0.420\n",
              "56425              1  0.304  0.128  0.130  ...  0.442  0.378  0.356  0.202\n",
              "56426              1  0.129  0.133  0.132  ...  0.441  0.455  0.619  0.310\n",
              "56427              1  0.399  0.362  0.266  ...  0.337  0.285  0.132  0.130\n",
              "56428              1  0.102  0.092  0.092  ...  0.389  0.323  0.349  0.321\n",
              "\n",
              "[18223 rows x 49 columns]"
            ]
          },
          "metadata": {
            "tags": []
          },
          "execution_count": 20
        }
      ]
    },
    {
      "cell_type": "code",
      "metadata": {
        "id": "pjYHbK8nug1h",
        "colab_type": "code",
        "colab": {}
      },
      "source": [
        "# Locate the most similar neighbors\n",
        "def get_neighbors(train, test_row, num_neighbors):\n",
        "\tdistances = list()\n",
        "\tfor train_row in train:\n",
        "\t\tdist = euclidean_distance(test_row, train_row)\n",
        "\t\tdistances.append((train_row, dist))\n",
        "\tdistances.sort(key=lambda tup: tup[1])\n",
        "\tneighbors = list()\n",
        "\tfor i in range(num_neighbors):\n",
        "\t\tneighbors.append(distances[i][0])\n",
        "\treturn neighbors\n",
        " \n",
        "# Make a classification prediction with neighbors\n",
        "def predict_classification(train, test_row, num_neighbors):\n",
        "\tneighbors = get_neighbors(train, test_row, num_neighbors)\n",
        "\toutput_values = [row[-1] for row in neighbors]\n",
        "\tprediction = max(set(output_values), key=output_values.count)\n",
        "\treturn prediction"
      ],
      "execution_count": 21,
      "outputs": []
    },
    {
      "cell_type": "code",
      "metadata": {
        "id": "LZIYoRVs0V9O",
        "colab_type": "code",
        "colab": {}
      },
      "source": [
        "def euclidean_distance(row1,row2):\n",
        "  distance =0.0\n",
        "  for i in range(len(row1)-1):\n",
        "    distance += (row1[i] - row2[i])**2\n",
        "  return sqrt(distance)"
      ],
      "execution_count": 22,
      "outputs": []
    },
    {
      "cell_type": "code",
      "metadata": {
        "id": "F_Jgy7oUGSqj",
        "colab_type": "code",
        "colab": {}
      },
      "source": [
        "cols = X.columns\n",
        "X[cols] = X[cols].apply(pd.to_numeric, errors='coerce')"
      ],
      "execution_count": 23,
      "outputs": []
    },
    {
      "cell_type": "code",
      "metadata": {
        "id": "4MIDerJLGbKz",
        "colab_type": "code",
        "colab": {}
      },
      "source": [
        "X = X.values.tolist()"
      ],
      "execution_count": 24,
      "outputs": []
    },
    {
      "cell_type": "code",
      "metadata": {
        "id": "Ak4fznW9wBKt",
        "colab_type": "code",
        "colab": {}
      },
      "source": [
        "prediction = predict_classification(X, X[200],3)"
      ],
      "execution_count": 25,
      "outputs": []
    },
    {
      "cell_type": "code",
      "metadata": {
        "id": "FdUautTPGJ5_",
        "colab_type": "code",
        "colab": {
          "base_uri": "https://localhost:8080/",
          "height": 34
        },
        "outputId": "abbcab8b-1d4f-4971-91ba-6fc0395af493"
      },
      "source": [
        "prediction"
      ],
      "execution_count": 26,
      "outputs": [
        {
          "output_type": "execute_result",
          "data": {
            "text/plain": [
              "0.214"
            ]
          },
          "metadata": {
            "tags": []
          },
          "execution_count": 26
        }
      ]
    },
    {
      "cell_type": "code",
      "metadata": {
        "id": "woly4KjF8dOY",
        "colab_type": "code",
        "colab": {
          "base_uri": "https://localhost:8080/",
          "height": 34
        },
        "outputId": "c6a0a6dc-0197-4df4-d60e-cb953b3c3ae9"
      },
      "source": [
        "print('Expected %d, Got %d.' % (X[200][0], prediction))"
      ],
      "execution_count": 27,
      "outputs": [
        {
          "output_type": "stream",
          "text": [
            "Expected 1, Got 0.\n"
          ],
          "name": "stdout"
        }
      ]
    },
    {
      "cell_type": "code",
      "metadata": {
        "id": "z3y4M_Ot_8wu",
        "colab_type": "code",
        "colab": {}
      },
      "source": [
        ""
      ],
      "execution_count": 27,
      "outputs": []
    },
    {
      "cell_type": "code",
      "metadata": {
        "id": "KCL-xFpkyFYR",
        "colab_type": "code",
        "colab": {}
      },
      "source": [
        ""
      ],
      "execution_count": 27,
      "outputs": []
    },
    {
      "cell_type": "code",
      "metadata": {
        "id": "HwpkncFqCv2L",
        "colab_type": "code",
        "colab": {}
      },
      "source": [
        ""
      ],
      "execution_count": 27,
      "outputs": []
    },
    {
      "cell_type": "code",
      "metadata": {
        "id": "JwRkSzA3yo67",
        "colab_type": "code",
        "colab": {}
      },
      "source": [
        ""
      ],
      "execution_count": 27,
      "outputs": []
    },
    {
      "cell_type": "code",
      "metadata": {
        "id": "mWCkgGnfFHvK",
        "colab_type": "code",
        "colab": {}
      },
      "source": [
        "  "
      ],
      "execution_count": 27,
      "outputs": []
    },
    {
      "cell_type": "code",
      "metadata": {
        "id": "irDKm28yFJCl",
        "colab_type": "code",
        "colab": {}
      },
      "source": [
        ""
      ],
      "execution_count": 27,
      "outputs": []
    },
    {
      "cell_type": "code",
      "metadata": {
        "id": "_ULSuHFPFWUl",
        "colab_type": "code",
        "colab": {}
      },
      "source": [
        "#Decision Tree"
      ],
      "execution_count": 28,
      "outputs": []
    },
    {
      "cell_type": "code",
      "metadata": {
        "id": "V3t_WIv92AY7",
        "colab_type": "code",
        "colab": {}
      },
      "source": [
        "import numpy as np\n",
        "\n",
        "\n",
        "class Node:\n",
        "    def __init__(self, predicted_class):\n",
        "        self.predicted_class = predicted_class\n",
        "        self.feature_index = 0\n",
        "        self.threshold = 0\n",
        "        self.left = None\n",
        "        self.right = None\n",
        "\n",
        "\n",
        "class DecisionTreeClassifier:\n",
        "    def __init__(self, max_depth=None):\n",
        "        self.max_depth = max_depth\n",
        "\n",
        "    def fit(self, X, y):\n",
        "        self.n_classes_ = len(set(y))\n",
        "        self.n_features_ = X.shape[1]\n",
        "        self.tree_ = self._grow_tree(X, y)\n",
        "\n",
        "    def predict(self, X):\n",
        "        return [self._predict(inputs) for inputs in X]\n",
        "\n",
        "    def _best_split(self, X, y):\n",
        "        m = y.size\n",
        "        if m <= 1:\n",
        "            return None, None\n",
        "        num_parent = [np.sum(y == c) for c in range(self.n_classes_)]\n",
        "        best_gini = 1.0 - sum((n / m) ** 2 for n in num_parent)\n",
        "        best_idx, best_thr = None, None\n",
        "        for idx in range(self.n_features_):\n",
        "            thresholds, classes = zip(*sorted(zip(X[:, idx], y)))\n",
        "            num_left = [0] * self.n_classes_\n",
        "            num_right = num_parent.copy()\n",
        "            for i in range(1, m):\n",
        "                c = classes[i - 1]\n",
        "                num_left[c] += 1\n",
        "                num_right[c] -= 1\n",
        "                gini_left = 1.0 - sum(\n",
        "                    (num_left[x] / i) ** 2 for x in range(self.n_classes_)\n",
        "                )\n",
        "                gini_right = 1.0 - sum(\n",
        "                    (num_right[x] / (m - i)) ** 2 for x in range(self.n_classes_)\n",
        "                )\n",
        "                gini = (i * gini_left + (m - i) * gini_right) / m\n",
        "                if thresholds[i] == thresholds[i - 1]:\n",
        "                    continue\n",
        "                if gini < best_gini:\n",
        "                    best_gini = gini\n",
        "                    best_idx = idx\n",
        "                    best_thr = (thresholds[i] + thresholds[i - 1]) / 2\n",
        "        return best_idx, best_thr\n",
        "\n",
        "    def _grow_tree(self, X, y, depth=0):\n",
        "        num_samples_per_class = [np.sum(y == i) for i in range(self.n_classes_)]\n",
        "        predicted_class = np.argmax(num_samples_per_class)\n",
        "        node = Node(predicted_class=predicted_class)\n",
        "        if depth < self.max_depth:\n",
        "            idx, thr = self._best_split(X, y)\n",
        "            if idx is not None:\n",
        "                indices_left = X[:, idx] < thr\n",
        "                X_left, y_left = X[indices_left], y[indices_left]\n",
        "                X_right, y_right = X[~indices_left], y[~indices_left]\n",
        "                node.feature_index = idx\n",
        "                node.threshold = thr\n",
        "                node.left = self._grow_tree(X_left, y_left, depth + 1)\n",
        "                node.right = self._grow_tree(X_right, y_right, depth + 1)\n",
        "        return node\n",
        "\n",
        "    def _predict(self, inputs):\n",
        "        node = self.tree_\n",
        "        while node.left:\n",
        "            if inputs[node.feature_index] < node.threshold:\n",
        "                node = node.left\n",
        "            else:\n",
        "                node = node.right\n",
        "        return node.predicted_class\n",
        "\n"
      ],
      "execution_count": 29,
      "outputs": []
    },
    {
      "cell_type": "code",
      "metadata": {
        "id": "WzMuEHdm2TtE",
        "colab_type": "code",
        "colab": {
          "base_uri": "https://localhost:8080/",
          "height": 166
        },
        "outputId": "dbe502ab-8cdd-4b73-e28b-6b9b4eb11b2e"
      },
      "source": [
        "test_numpy=X.to_numpy()\n"
      ],
      "execution_count": 30,
      "outputs": [
        {
          "output_type": "error",
          "ename": "AttributeError",
          "evalue": "ignored",
          "traceback": [
            "\u001b[0;31m---------------------------------------------------------------------------\u001b[0m",
            "\u001b[0;31mAttributeError\u001b[0m                            Traceback (most recent call last)",
            "\u001b[0;32m<ipython-input-30-8a3dc46c67cc>\u001b[0m in \u001b[0;36m<module>\u001b[0;34m()\u001b[0m\n\u001b[0;32m----> 1\u001b[0;31m \u001b[0mtest_numpy\u001b[0m\u001b[0;34m=\u001b[0m\u001b[0mX\u001b[0m\u001b[0;34m.\u001b[0m\u001b[0mto_numpy\u001b[0m\u001b[0;34m(\u001b[0m\u001b[0;34m)\u001b[0m\u001b[0;34m\u001b[0m\u001b[0;34m\u001b[0m\u001b[0m\n\u001b[0m",
            "\u001b[0;31mAttributeError\u001b[0m: 'list' object has no attribute 'to_numpy'"
          ]
        }
      ]
    },
    {
      "cell_type": "code",
      "metadata": {
        "id": "DHLLEPj42yPD",
        "colab_type": "code",
        "colab": {}
      },
      "source": [
        "clf = DecisionTreeClassifier(max_depth=1)\n",
        "clf.fit(test_numpy, y)"
      ],
      "execution_count": null,
      "outputs": []
    },
    {
      "cell_type": "code",
      "metadata": {
        "id": "PBOjAfaZ2WEg",
        "colab_type": "code",
        "colab": {}
      },
      "source": [
        "clf.predict([[12,21,23,12,23,21,23,21,32,1,23,12,3,12,4,12,12,412,12,32,12,43,12,32,123,345,12,21,12,21,12,12,12,12,12,122,122,12,12,12,12,12,12,12,12,12,12,12,12,12]])"
      ],
      "execution_count": null,
      "outputs": []
    },
    {
      "cell_type": "code",
      "metadata": {
        "id": "defnZhLsBNQl",
        "colab_type": "code",
        "colab": {}
      },
      "source": [
        ""
      ],
      "execution_count": null,
      "outputs": []
    }
  ]
}